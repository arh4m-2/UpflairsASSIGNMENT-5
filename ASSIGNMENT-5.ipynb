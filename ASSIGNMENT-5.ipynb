{
 "cells": [
  {
   "cell_type": "markdown",
   "metadata": {},
   "source": [
    "## \n",
    "Write a Python method in Oop called “calculate_area” that takes the radius of a\n",
    "circle as input and returns the area of the circle, write program using Oop"
   ]
  },
  {
   "cell_type": "code",
   "execution_count": 3,
   "metadata": {},
   "outputs": [
    {
     "name": "stdout",
     "output_type": "stream",
     "text": [
      "Area of circle: 153.86\n"
     ]
    }
   ],
   "source": [
    "class Circle:\n",
    "    def __init__(self):\n",
    "        self.radius = float(input('Enter radius of circle : '))\n",
    "    \n",
    "\n",
    "    def calculate_area(self):\n",
    "        area = 3.14*self.radius*self.radius\n",
    "        return area\n",
    "    \n",
    "\n",
    "c1 = Circle()\n",
    "area = c1.calculate_area()\n",
    "print(f'Area of circle: {area}')"
   ]
  },
  {
   "cell_type": "markdown",
   "metadata": {},
   "source": [
    "##\n",
    "Write a Python method in Oop called “calculate_discount” that calculates the\n",
    "final price of an item after applying a discount percentage. The function should\n",
    "take the original price and the discount percentage as inputs.\n"
   ]
  },
  {
   "cell_type": "code",
   "execution_count": 4,
   "metadata": {},
   "outputs": [
    {
     "name": "stdout",
     "output_type": "stream",
     "text": [
      "Final Price of Object is : 4500.0\n"
     ]
    }
   ],
   "source": [
    "class Discount:\n",
    "    def __init__(self):\n",
    "        self.price = 0\n",
    "        self.discount_percent = 0\n",
    "\n",
    "    def calculate_discount(self):\n",
    "        self.price = float(input('Enter Price : '))\n",
    "        self.discount_percent = float(input('Enter Discount Percentage : '))    \n",
    "        final_price = self.price - ((self.discount_percent/100)*self.price)   \n",
    "        return final_price\n",
    "    \n",
    "\n",
    "object1 = Discount()\n",
    "final_price = object1.calculate_discount()\n",
    "print(f'Final Price of Object is : {final_price}')"
   ]
  },
  {
   "cell_type": "markdown",
   "metadata": {},
   "source": [
    "##\n",
    "Write a method in Oop named “count_vowels” that takes a string as input and\n",
    "returns the count of vowels (both uppercase and lowercase) in the string.\n"
   ]
  },
  {
   "cell_type": "code",
   "execution_count": 6,
   "metadata": {},
   "outputs": [
    {
     "data": {
      "text/plain": [
       "4"
      ]
     },
     "execution_count": 6,
     "metadata": {},
     "output_type": "execute_result"
    }
   ],
   "source": [
    "class Vowels:\n",
    "    def __init__(self):\n",
    "        self.string = ''\n",
    "        self.vowels = ['a', 'e', 'i', 'o', 'u']\n",
    "\n",
    "    def count_vowels(self):\n",
    "        count = 0\n",
    "        self.string = input('Enter a word : ')\n",
    "        for char in self.string:\n",
    "            if char.lower() in self.vowels:\n",
    "                count += 1\n",
    "\n",
    "        return count\n",
    "\n",
    "word = Vowels()\n",
    "\n",
    "word.count_vowels()\n",
    "\n",
    "\n"
   ]
  },
  {
   "cell_type": "code",
   "execution_count": null,
   "metadata": {},
   "outputs": [],
   "source": []
  }
 ],
 "metadata": {
  "kernelspec": {
   "display_name": "Python 3",
   "language": "python",
   "name": "python3"
  },
  "language_info": {
   "codemirror_mode": {
    "name": "ipython",
    "version": 3
   },
   "file_extension": ".py",
   "mimetype": "text/x-python",
   "name": "python",
   "nbconvert_exporter": "python",
   "pygments_lexer": "ipython3",
   "version": "3.12.1"
  }
 },
 "nbformat": 4,
 "nbformat_minor": 2
}
